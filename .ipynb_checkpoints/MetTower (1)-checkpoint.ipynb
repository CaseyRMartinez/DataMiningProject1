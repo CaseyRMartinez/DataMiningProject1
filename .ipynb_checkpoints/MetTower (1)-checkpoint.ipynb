{
 "cells": [
  {
   "cell_type": "code",
   "execution_count": 1,
   "metadata": {},
   "outputs": [
    {
     "data": {
      "text/plain": [
       "['.ipynb_checkpoints',\n",
       " 'FaultCode_DowntimeMapping.xlsx',\n",
       " 'LGW_Down_Turbine_Tracker.xlsx',\n",
       " 'Lightning.csv',\n",
       " 'Meteorological data writeup.docx',\n",
       " 'Meteorological_Notebook_SAL.py',\n",
       " 'MetTower (1).ipynb',\n",
       " 'MetTower.ipynb',\n",
       " 'MetTower_complete.csv',\n",
       " 'MetTower_LGW_2017.csv',\n",
       " 'PowerCurveData.csv',\n",
       " 'PowerCurves.csv',\n",
       " 'Siemens Error Code Stop and Reset Details.xlsx',\n",
       " 'Siemens_Fault_Code_Descriptions.xlsx',\n",
       " 'tblSCTurbine.csv',\n",
       " 'WpsHistoryDescription_V_310.pdf',\n",
       " '~$teorological data writeup.docx']"
      ]
     },
     "execution_count": 1,
     "metadata": {},
     "output_type": "execute_result"
    }
   ],
   "source": [
    "# Set up\n",
    "import os\n",
    "import pandas as pd\n",
    "from pandas.plotting import scatter_matrix\n",
    "import matplotlib as mpl\n",
    "import matplotlib.pyplot as plt\n",
    "import matplotlib.dates as mdates\n",
    "import seaborn as sbn\n",
    "import boto\n",
    "import boto3\n",
    "import io\n",
    "import csv\n",
    "import warnings\n",
    "import numpy as np\n",
    "%matplotlib inline\n",
    "path = '/Users/sheri/documents/data science/data mining/homework/project 1'\n",
    "\n",
    "os.listdir(path)"
   ]
  },
  {
   "cell_type": "markdown",
   "metadata": {},
   "source": [
    "# Meteorological Conditions versus Turbine Performance"
   ]
  },
  {
   "cell_type": "markdown",
   "metadata": {},
   "source": [
    "I wanted to look at the meteorological data to see how much that could help explain turbine performance. The factors I looked at were Barometric Pressure, Humidity, and Air Temperature (measured at 3meters and at 76 meters to see if a temperature differential makes a difference)."
   ]
  },
  {
   "cell_type": "code",
   "execution_count": 2,
   "metadata": {},
   "outputs": [
    {
     "name": "stdout",
     "output_type": "stream",
     "text": [
      "<class 'pandas.core.frame.DataFrame'>\n",
      "RangeIndex: 52560 entries, 0 to 52559\n",
      "Data columns (total 22 columns):\n",
      "TmStamp                    52560 non-null object\n",
      "RecNum                     52560 non-null int64\n",
      "WS_P2546a_80m_Avg          52560 non-null float64\n",
      "WS_Thies_80m_Avg           52560 non-null float64\n",
      "Windsp_3D_Avg              52560 non-null float64\n",
      "WindDir_Angle_3D_Avg       52560 non-null float64\n",
      "Elevation_angle_3D_Avg     52560 non-null float64\n",
      "Temp_3D_Avg                52560 non-null float64\n",
      "WindDir_76m_D1_WVT         52560 non-null float64\n",
      "WindDir_76m_SD1_WVT        52560 non-null float64\n",
      "WindDir_ICEFREE_D1_WVT     52560 non-null float64\n",
      "WindDir_ICEFREE_SD1_WVT    52560 non-null float64\n",
      "WS_ICEFREE_Avg             52560 non-null float64\n",
      "AirTC_76m_Avg              52555 non-null float64\n",
      "RH_76m_Avg                 52560 non-null float64\n",
      "BP_mbar_76m_Avg            52560 non-null float64\n",
      "WS_Thies_60m_Avg           52560 non-null float64\n",
      "WS_Thies_26m_Avg           52560 non-null float64\n",
      "WindDir_D1_WVT             52560 non-null float64\n",
      "WindDir_SD1_WVT            52560 non-null float64\n",
      "AirTC_3m_Avg               52560 non-null float64\n",
      "AirTC_3m_Tot               52560 non-null float64\n",
      "dtypes: float64(20), int64(1), object(1)\n",
      "memory usage: 8.8+ MB\n"
     ]
    }
   ],
   "source": [
    "#reading in meteorlogical data for 2017\n",
    "df_m = pd.read_csv(path + '/MetTower_LGW_2017.csv')\n",
    "df_m.head()\n",
    "df_m.info()"
   ]
  },
  {
   "cell_type": "code",
   "execution_count": 3,
   "metadata": {},
   "outputs": [
    {
     "data": {
      "text/html": [
       "<div>\n",
       "<style scoped>\n",
       "    .dataframe tbody tr th:only-of-type {\n",
       "        vertical-align: middle;\n",
       "    }\n",
       "\n",
       "    .dataframe tbody tr th {\n",
       "        vertical-align: top;\n",
       "    }\n",
       "\n",
       "    .dataframe thead th {\n",
       "        text-align: right;\n",
       "    }\n",
       "</style>\n",
       "<table border=\"1\" class=\"dataframe\">\n",
       "  <thead>\n",
       "    <tr style=\"text-align: right;\">\n",
       "      <th></th>\n",
       "      <th>Name</th>\n",
       "      <th>TimeStamp</th>\n",
       "      <th>wtc_CurTime_endvalue</th>\n",
       "      <th>wtc_SecAnemo_mean</th>\n",
       "      <th>wtc_YawPos_mean</th>\n",
       "      <th>wtc_GenRpm_mean</th>\n",
       "      <th>wtc_HubLubGr_mean</th>\n",
       "      <th>wtc_IceDetec_mean</th>\n",
       "      <th>wtc_IMidBa_mean</th>\n",
       "      <th>wtc_IMidCa_mean</th>\n",
       "      <th>...</th>\n",
       "      <th>wtc_ReactRef_endvalue</th>\n",
       "      <th>wtc_ScYawPos_mean</th>\n",
       "      <th>wtc_PrWindSp_mean</th>\n",
       "      <th>wtc_SeWindSp_mean</th>\n",
       "      <th>wtc_AcWindSp_mean</th>\n",
       "      <th>wtc_NacelPos_mean</th>\n",
       "      <th>wtc_TetAnemo_mean</th>\n",
       "      <th>wtc_TetAnFrq_mean</th>\n",
       "      <th>wtc_TowerFrq_Frequenc_mean</th>\n",
       "      <th>wtc_BoostAva_mean</th>\n",
       "    </tr>\n",
       "  </thead>\n",
       "  <tbody>\n",
       "    <tr>\n",
       "      <th>0</th>\n",
       "      <td>T010</td>\n",
       "      <td>2015-05-19 23:00:00.000</td>\n",
       "      <td>2015-05-19 22:59:56.000</td>\n",
       "      <td>8.026840</td>\n",
       "      <td>40.70000</td>\n",
       "      <td>0.6</td>\n",
       "      <td>NaN</td>\n",
       "      <td>NaN</td>\n",
       "      <td>NaN</td>\n",
       "      <td>NaN</td>\n",
       "      <td>...</td>\n",
       "      <td>NaN</td>\n",
       "      <td>40.70000</td>\n",
       "      <td>9.485412</td>\n",
       "      <td>8.017353</td>\n",
       "      <td>9.485392</td>\n",
       "      <td>40.70000</td>\n",
       "      <td>NaN</td>\n",
       "      <td>0.01</td>\n",
       "      <td>0.2004</td>\n",
       "      <td>0.0</td>\n",
       "    </tr>\n",
       "    <tr>\n",
       "      <th>1</th>\n",
       "      <td>T010</td>\n",
       "      <td>2015-05-19 23:10:00.000</td>\n",
       "      <td>2015-05-19 23:09:56.000</td>\n",
       "      <td>8.709124</td>\n",
       "      <td>12.69578</td>\n",
       "      <td>0.6</td>\n",
       "      <td>NaN</td>\n",
       "      <td>NaN</td>\n",
       "      <td>NaN</td>\n",
       "      <td>NaN</td>\n",
       "      <td>...</td>\n",
       "      <td>NaN</td>\n",
       "      <td>10.96358</td>\n",
       "      <td>8.437153</td>\n",
       "      <td>8.697805</td>\n",
       "      <td>8.437179</td>\n",
       "      <td>12.70296</td>\n",
       "      <td>NaN</td>\n",
       "      <td>0.01</td>\n",
       "      <td>0.2004</td>\n",
       "      <td>0.0</td>\n",
       "    </tr>\n",
       "    <tr>\n",
       "      <th>2</th>\n",
       "      <td>T010</td>\n",
       "      <td>2015-05-19 23:20:00.000</td>\n",
       "      <td>2015-05-19 23:19:56.000</td>\n",
       "      <td>10.432920</td>\n",
       "      <td>311.68360</td>\n",
       "      <td>0.6</td>\n",
       "      <td>NaN</td>\n",
       "      <td>NaN</td>\n",
       "      <td>NaN</td>\n",
       "      <td>NaN</td>\n",
       "      <td>...</td>\n",
       "      <td>NaN</td>\n",
       "      <td>68.03295</td>\n",
       "      <td>10.836880</td>\n",
       "      <td>10.431380</td>\n",
       "      <td>10.836890</td>\n",
       "      <td>311.68570</td>\n",
       "      <td>NaN</td>\n",
       "      <td>0.01</td>\n",
       "      <td>0.2004</td>\n",
       "      <td>0.0</td>\n",
       "    </tr>\n",
       "    <tr>\n",
       "      <th>3</th>\n",
       "      <td>T010</td>\n",
       "      <td>2015-05-19 23:30:00.000</td>\n",
       "      <td>2015-05-19 23:29:56.000</td>\n",
       "      <td>8.176679</td>\n",
       "      <td>164.15750</td>\n",
       "      <td>0.6</td>\n",
       "      <td>NaN</td>\n",
       "      <td>NaN</td>\n",
       "      <td>NaN</td>\n",
       "      <td>NaN</td>\n",
       "      <td>...</td>\n",
       "      <td>NaN</td>\n",
       "      <td>-194.58410</td>\n",
       "      <td>9.402458</td>\n",
       "      <td>8.174048</td>\n",
       "      <td>9.402458</td>\n",
       "      <td>164.16360</td>\n",
       "      <td>NaN</td>\n",
       "      <td>0.01</td>\n",
       "      <td>0.2004</td>\n",
       "      <td>0.0</td>\n",
       "    </tr>\n",
       "    <tr>\n",
       "      <th>4</th>\n",
       "      <td>T010</td>\n",
       "      <td>2015-05-19 23:40:00.000</td>\n",
       "      <td>2015-05-19 23:39:56.000</td>\n",
       "      <td>8.793220</td>\n",
       "      <td>151.80000</td>\n",
       "      <td>0.6</td>\n",
       "      <td>NaN</td>\n",
       "      <td>NaN</td>\n",
       "      <td>NaN</td>\n",
       "      <td>NaN</td>\n",
       "      <td>...</td>\n",
       "      <td>NaN</td>\n",
       "      <td>-208.20000</td>\n",
       "      <td>9.098410</td>\n",
       "      <td>8.795180</td>\n",
       "      <td>9.098390</td>\n",
       "      <td>151.80000</td>\n",
       "      <td>NaN</td>\n",
       "      <td>0.01</td>\n",
       "      <td>0.2004</td>\n",
       "      <td>0.0</td>\n",
       "    </tr>\n",
       "  </tbody>\n",
       "</table>\n",
       "<p>5 rows × 41 columns</p>\n",
       "</div>"
      ],
      "text/plain": [
       "   Name                TimeStamp     wtc_CurTime_endvalue  wtc_SecAnemo_mean  \\\n",
       "0  T010  2015-05-19 23:00:00.000  2015-05-19 22:59:56.000           8.026840   \n",
       "1  T010  2015-05-19 23:10:00.000  2015-05-19 23:09:56.000           8.709124   \n",
       "2  T010  2015-05-19 23:20:00.000  2015-05-19 23:19:56.000          10.432920   \n",
       "3  T010  2015-05-19 23:30:00.000  2015-05-19 23:29:56.000           8.176679   \n",
       "4  T010  2015-05-19 23:40:00.000  2015-05-19 23:39:56.000           8.793220   \n",
       "\n",
       "   wtc_YawPos_mean  wtc_GenRpm_mean  wtc_HubLubGr_mean  wtc_IceDetec_mean  \\\n",
       "0         40.70000              0.6                NaN                NaN   \n",
       "1         12.69578              0.6                NaN                NaN   \n",
       "2        311.68360              0.6                NaN                NaN   \n",
       "3        164.15750              0.6                NaN                NaN   \n",
       "4        151.80000              0.6                NaN                NaN   \n",
       "\n",
       "   wtc_IMidBa_mean  wtc_IMidCa_mean        ...          wtc_ReactRef_endvalue  \\\n",
       "0              NaN              NaN        ...                            NaN   \n",
       "1              NaN              NaN        ...                            NaN   \n",
       "2              NaN              NaN        ...                            NaN   \n",
       "3              NaN              NaN        ...                            NaN   \n",
       "4              NaN              NaN        ...                            NaN   \n",
       "\n",
       "   wtc_ScYawPos_mean  wtc_PrWindSp_mean  wtc_SeWindSp_mean  wtc_AcWindSp_mean  \\\n",
       "0           40.70000           9.485412           8.017353           9.485392   \n",
       "1           10.96358           8.437153           8.697805           8.437179   \n",
       "2           68.03295          10.836880          10.431380          10.836890   \n",
       "3         -194.58410           9.402458           8.174048           9.402458   \n",
       "4         -208.20000           9.098410           8.795180           9.098390   \n",
       "\n",
       "   wtc_NacelPos_mean  wtc_TetAnemo_mean  wtc_TetAnFrq_mean  \\\n",
       "0           40.70000                NaN               0.01   \n",
       "1           12.70296                NaN               0.01   \n",
       "2          311.68570                NaN               0.01   \n",
       "3          164.16360                NaN               0.01   \n",
       "4          151.80000                NaN               0.01   \n",
       "\n",
       "   wtc_TowerFrq_Frequenc_mean  wtc_BoostAva_mean  \n",
       "0                      0.2004                0.0  \n",
       "1                      0.2004                0.0  \n",
       "2                      0.2004                0.0  \n",
       "3                      0.2004                0.0  \n",
       "4                      0.2004                0.0  \n",
       "\n",
       "[5 rows x 41 columns]"
      ]
     },
     "execution_count": 3,
     "metadata": {},
     "output_type": "execute_result"
    }
   ],
   "source": [
    "#reading in turbine performance data\n",
    "df_p = pd.read_csv(path + '/tblSCTurbine.csv')\n",
    "\n",
    "df_p.head()\n",
    "\n",
    "\n"
   ]
  },
  {
   "cell_type": "code",
   "execution_count": 4,
   "metadata": {},
   "outputs": [
    {
     "name": "stdout",
     "output_type": "stream",
     "text": [
      "<class 'pandas.core.frame.DataFrame'>\n",
      "RangeIndex: 52560 entries, 0 to 52559\n",
      "Data columns (total 5 columns):\n",
      "TmStamp            52560 non-null datetime64[ns]\n",
      "RH_76m_Avg         52560 non-null float64\n",
      "BP_mbar_76m_Avg    52560 non-null float64\n",
      "AirTC_3m_Avg       52560 non-null float64\n",
      "AirTC_76m_Avg      52555 non-null float64\n",
      "dtypes: datetime64[ns](1), float64(4)\n",
      "memory usage: 2.0 MB\n"
     ]
    },
    {
     "data": {
      "text/plain": [
       "DatetimeIndex(['2017-01-01 00:00:00', '2017-01-01 00:10:00',\n",
       "               '2017-01-01 00:20:00', '2017-01-01 00:30:00',\n",
       "               '2017-01-01 00:40:00', '2017-01-01 00:50:00',\n",
       "               '2017-01-01 01:00:00', '2017-01-01 01:10:00',\n",
       "               '2017-01-01 01:20:00', '2017-01-01 01:30:00',\n",
       "               ...\n",
       "               '2017-12-31 22:20:00', '2017-12-31 22:30:00',\n",
       "               '2017-12-31 22:40:00', '2017-12-31 22:50:00',\n",
       "               '2017-12-31 23:00:00', '2017-12-31 23:10:00',\n",
       "               '2017-12-31 23:20:00', '2017-12-31 23:30:00',\n",
       "               '2017-12-31 23:40:00', '2017-12-31 23:50:00'],\n",
       "              dtype='datetime64[ns]', name='TmStamp', length=52560, freq=None)"
      ]
     },
     "execution_count": 4,
     "metadata": {},
     "output_type": "execute_result"
    }
   ],
   "source": [
    "\n",
    "#selecting columns of interest from the meteorological data set \n",
    "df_m = df_m[['TmStamp', 'RH_76m_Avg', 'BP_mbar_76m_Avg', 'AirTC_3m_Avg','AirTC_76m_Avg']]\n",
    "df_m.describe()\n",
    "\n",
    "# Need to convert TimeStamp from object to datetime\n",
    "df_m['TmStamp'] = pd.to_datetime(df_m['TmStamp'])\n",
    "df_m.info()\n",
    "\n",
    "# setting the index by Timestamp adds plotting functionality and drops the column.\n",
    "df_m.set_index('TmStamp', inplace=True)\n",
    "df_m.index"
   ]
  },
  {
   "cell_type": "markdown",
   "metadata": {},
   "source": [
    "# Turbine Performance Measure"
   ]
  },
  {
   "cell_type": "markdown",
   "metadata": {},
   "source": [
    "I used the Mean RPM of the turbine to measure the performance of the turbine. I then compared the meteorological factors with my measure of Turbine performance."
   ]
  },
  {
   "cell_type": "code",
   "execution_count": 5,
   "metadata": {},
   "outputs": [
    {
     "name": "stdout",
     "output_type": "stream",
     "text": [
      "<class 'pandas.core.frame.DataFrame'>\n",
      "RangeIndex: 12742244 entries, 0 to 12742243\n",
      "Data columns (total 3 columns):\n",
      "TimeStamp            datetime64[ns]\n",
      "wtc_GenRpm_mean      float64\n",
      "wtc_AcWindSp_mean    float64\n",
      "dtypes: datetime64[ns](1), float64(2)\n",
      "memory usage: 291.6 MB\n"
     ]
    },
    {
     "data": {
      "text/plain": [
       "DatetimeIndex(['2017-01-01 00:00:00', '2017-01-01 00:00:00',\n",
       "               '2017-01-01 00:00:00', '2017-01-01 00:00:00',\n",
       "               '2017-01-01 00:00:00', '2017-01-01 00:00:00',\n",
       "               '2017-01-01 00:00:00', '2017-01-01 00:00:00',\n",
       "               '2017-01-01 00:00:00', '2017-01-01 00:00:00',\n",
       "               ...\n",
       "               '2017-12-31 23:50:00', '2017-12-31 23:50:00',\n",
       "               '2017-12-31 23:50:00', '2017-12-31 23:50:00',\n",
       "               '2017-12-31 23:50:00', '2017-12-31 23:50:00',\n",
       "               '2017-12-31 23:50:00', '2017-12-31 23:50:00',\n",
       "               '2017-12-31 23:50:00', '2017-12-31 23:50:00'],\n",
       "              dtype='datetime64[ns]', name='TimeStamp', length=4544868, freq=None)"
      ]
     },
     "execution_count": 5,
     "metadata": {},
     "output_type": "execute_result"
    }
   ],
   "source": [
    "\n",
    "#selecting columns of interest from the turbine performance data set\n",
    "df_p = df_p[['TimeStamp', 'wtc_GenRpm_mean', 'wtc_AcWindSp_mean']]\n",
    "# Need to convert TimeStamp from object to datetime\n",
    "df_p['TimeStamp'] = pd.to_datetime(df_p['TimeStamp'])\n",
    "df_p.info()\n",
    "\n",
    "\n",
    "# setting the index by Timestamp adds plotting functionality and drops the column.\n",
    "df_p.set_index('TimeStamp', inplace=True)\n",
    "# choosing only the 2017 data \n",
    "df_p = df_p['2017-01-01':'2017-12-31']\n",
    "df_p.index"
   ]
  },
  {
   "cell_type": "code",
   "execution_count": 6,
   "metadata": {},
   "outputs": [
    {
     "data": {
      "text/html": [
       "<div>\n",
       "<style scoped>\n",
       "    .dataframe tbody tr th:only-of-type {\n",
       "        vertical-align: middle;\n",
       "    }\n",
       "\n",
       "    .dataframe tbody tr th {\n",
       "        vertical-align: top;\n",
       "    }\n",
       "\n",
       "    .dataframe thead th {\n",
       "        text-align: right;\n",
       "    }\n",
       "</style>\n",
       "<table border=\"1\" class=\"dataframe\">\n",
       "  <thead>\n",
       "    <tr style=\"text-align: right;\">\n",
       "      <th></th>\n",
       "      <th>RH_76m_Avg</th>\n",
       "      <th>BP_mbar_76m_Avg</th>\n",
       "      <th>AirTC_3m_Avg</th>\n",
       "      <th>AirTC_76m_Avg</th>\n",
       "      <th>wtc_GenRpm_mean</th>\n",
       "      <th>wtc_AcWindSp_mean</th>\n",
       "    </tr>\n",
       "  </thead>\n",
       "  <tbody>\n",
       "    <tr>\n",
       "      <th>2017-01-01</th>\n",
       "      <td>75.79</td>\n",
       "      <td>945.0</td>\n",
       "      <td>8.67</td>\n",
       "      <td>9.14</td>\n",
       "      <td>1270.048</td>\n",
       "      <td>8.741180</td>\n",
       "    </tr>\n",
       "    <tr>\n",
       "      <th>2017-01-01</th>\n",
       "      <td>75.79</td>\n",
       "      <td>945.0</td>\n",
       "      <td>8.67</td>\n",
       "      <td>9.14</td>\n",
       "      <td>1200.634</td>\n",
       "      <td>8.344568</td>\n",
       "    </tr>\n",
       "    <tr>\n",
       "      <th>2017-01-01</th>\n",
       "      <td>75.79</td>\n",
       "      <td>945.0</td>\n",
       "      <td>8.67</td>\n",
       "      <td>9.14</td>\n",
       "      <td>1436.309</td>\n",
       "      <td>11.170890</td>\n",
       "    </tr>\n",
       "    <tr>\n",
       "      <th>2017-01-01</th>\n",
       "      <td>75.79</td>\n",
       "      <td>945.0</td>\n",
       "      <td>8.67</td>\n",
       "      <td>9.14</td>\n",
       "      <td>1396.525</td>\n",
       "      <td>10.997920</td>\n",
       "    </tr>\n",
       "    <tr>\n",
       "      <th>2017-01-01</th>\n",
       "      <td>75.79</td>\n",
       "      <td>945.0</td>\n",
       "      <td>8.67</td>\n",
       "      <td>9.14</td>\n",
       "      <td>1437.861</td>\n",
       "      <td>11.212080</td>\n",
       "    </tr>\n",
       "  </tbody>\n",
       "</table>\n",
       "</div>"
      ],
      "text/plain": [
       "            RH_76m_Avg  BP_mbar_76m_Avg  AirTC_3m_Avg  AirTC_76m_Avg  \\\n",
       "2017-01-01       75.79            945.0          8.67           9.14   \n",
       "2017-01-01       75.79            945.0          8.67           9.14   \n",
       "2017-01-01       75.79            945.0          8.67           9.14   \n",
       "2017-01-01       75.79            945.0          8.67           9.14   \n",
       "2017-01-01       75.79            945.0          8.67           9.14   \n",
       "\n",
       "            wtc_GenRpm_mean  wtc_AcWindSp_mean  \n",
       "2017-01-01         1270.048           8.741180  \n",
       "2017-01-01         1200.634           8.344568  \n",
       "2017-01-01         1436.309          11.170890  \n",
       "2017-01-01         1396.525          10.997920  \n",
       "2017-01-01         1437.861          11.212080  "
      ]
     },
     "execution_count": 6,
     "metadata": {},
     "output_type": "execute_result"
    }
   ],
   "source": [
    "#Merging the meteorlogical and performance data\n",
    "df = df_m.merge(df_p,left_index=True,right_index=True)\n",
    "df.head()"
   ]
  },
  {
   "cell_type": "markdown",
   "metadata": {},
   "source": [
    "# Histograms and Box Plots"
   ]
  },
  {
   "cell_type": "markdown",
   "metadata": {},
   "source": [
    "I plotted histograms and boxplots on the various factors to get a better idea of how each factor varied over time.\n",
    "In the histograms we can see that the temperature at three meters height is more variable than the temperature at 76 meters. The barometric pressure is very stable while the humidity varies quite a bit.\n",
    "The mean rpm of the turbine varies but is clearly at maximum more of the time than at lower output levels. This variation should help show how much the meteorological factors affect the RPM.  \n"
   ]
  },
  {
   "cell_type": "markdown",
   "metadata": {},
   "source": [
    "Using box plots we can see each factor in more detail. The variation within the three meter measure of temperature is clearly more variable than the 76 meter measure but there are more outliers within the 76 meter measure.\n",
    "The barometric pressure shows the same stability although a couple of storms clearly happened and are shown as outliers.\n",
    "While the humidity has a wide variation, the values are very consistent (few outliers) and are as expected in the Dallas, Texas region.\n"
   ]
  },
  {
   "cell_type": "code",
   "execution_count": 7,
   "metadata": {},
   "outputs": [
    {
     "data": {
      "image/png": "[encoded data removed]",
      "text/plain": [
       "<Figure size 864x864 with 6 Axes>"
      ]
     },
     "metadata": {},
     "output_type": "display_data"
    },
    {
     "data": {
      "image/png": "[encoded data removed]",
      "text/plain": [
       "<Figure size 720x720 with 9 Axes>"
      ]
     },
     "metadata": {},
     "output_type": "display_data"
    }
   ],
   "source": [
    "#Plots of interesting factors. \n",
    "#Code From: https://machinelearningmastery.com/visualize-machine-learning-data-python-pandas/\n",
    "df.hist(figsize=(12,12))\n",
    "plt.show()\n",
    "\n",
    "df.plot(kind='box', subplots=True, layout=(3,3), figsize=(10,10), sharex=False, sharey=False)\n",
    "plt.show()"
   ]
  },
  {
   "cell_type": "markdown",
   "metadata": {},
   "source": [
    "# Correlation Plot"
   ]
  },
  {
   "cell_type": "markdown",
   "metadata": {},
   "source": [
    "From this correlation plot we can see that wind speed is clearly the most predictive factor on turbine rpm. This is expected, but there is a slight negative correlation for rpm vs the other factors. Barometric pressure seems to have the most negative correlation while air temperature and humidity have about an approximately equal small negative effect."
   ]
  },
  {
   "cell_type": "code",
   "execution_count": 9,
   "metadata": {},
   "outputs": [
    {
     "data": {
      "image/png": "[encoded data removed]",
      "text/plain": [
       "<Figure size 1224x1224 with 2 Axes>"
      ]
     },
     "metadata": {},
     "output_type": "display_data"
    }
   ],
   "source": [
    "names = ['RH_76m_Avg', 'BP_mbar_76m_Avg', 'AirTC_3m_Avg','AirTC_76m_Avg','wtc_GenRpm_mean','wtc_AcWindSp_mean']\n",
    "correlations = df.corr()\n",
    "# plot correlation matrix\n",
    "fig = plt.figure(figsize=(17,17))\n",
    "ax = fig.add_subplot(111)\n",
    "cax = ax.matshow(correlations, vmin=-1, vmax=1)\n",
    "fig.colorbar(cax)\n",
    "ticks = np.arange(0,6,1)\n",
    "ax.set_xticks(ticks)\n",
    "ax.set_yticks(ticks)\n",
    "ax.set_xticklabels(names)\n",
    "ax.set_yticklabels(names)\n",
    "plt.show()"
   ]
  },
  {
   "cell_type": "code",
   "execution_count": null,
   "metadata": {
    "collapsed": true
   },
   "outputs": [],
   "source": [
    "#scatter plots\n",
    "#scatter_matrix(df, figsize=(15,15))\n",
    "#plt.show()"
   ]
  },
  {
   "cell_type": "code",
   "execution_count": null,
   "metadata": {
    "collapsed": true
   },
   "outputs": [],
   "source": []
  }
 ],
 "metadata": {
  "kernelspec": {
   "display_name": "Python 3",
   "language": "python",
   "name": "python3"
  },
  "language_info": {
   "codemirror_mode": {
    "name": "ipython",
    "version": 3
   },
   "file_extension": ".py",
   "mimetype": "text/x-python",
   "name": "python",
   "nbconvert_exporter": "python",
   "pygments_lexer": "ipython3",
   "version": "3.6.1"
  }
 },
 "nbformat": 4,
 "nbformat_minor": 1
}
