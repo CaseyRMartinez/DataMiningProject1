{
 "cells": [
  {
   "cell_type": "code",
   "execution_count": 8,
   "metadata": {
    "collapsed": true
   },
   "outputs": [],
   "source": [
    "import pyodbc\n",
    "import pandas as pd\n",
    "import matplotlib.pyplot as plt\n",
    "import warnings\n",
    "warnings.simplefilter('ignore', DeprecationWarning)\n",
    "%matplotlib inline"
   ]
  },
  {
   "cell_type": "code",
   "execution_count": 9,
   "metadata": {
    "collapsed": true
   },
   "outputs": [],
   "source": [
    "DSN = 'scada-lgw.c1odobldq4uq.us-west-2.rds.amazonaws.com'\n",
    "username = 'admin'\n",
    "password = 'OpsR3porting!'\n",
    "\n",
    "conn = pyodbc.connect('DRIVER=SQL Server;SERVER=%s;UID=%s;PWD=%s' %(DSN, username, password))"
   ]
  },
  {
   "cell_type": "code",
   "execution_count": 48,
   "metadata": {
    "collapsed": true
   },
   "outputs": [],
   "source": [
    "query = 'select top(1000) * from [wpsHistory_CASJOSQL01].[dbo].[tblSCTurbine]' #ORDER BY TimeStamp DESC\n",
    "\n",
    "df_turbine = pd.read_sql(query, conn)"
   ]
  },
  {
   "cell_type": "code",
   "execution_count": 9,
   "metadata": {
    "collapsed": true
   },
   "outputs": [],
   "source": [
    "# Another table to combine\n",
    "\n",
    "#query = 'select top(10) * from [wpsHistory_CASJOSQL01].[dbo].[tblSCTurDigiIn] ORDER BY TimeStamp DESC'\n",
    "\n",
    "#df_DigiIn = pd.read_sql(query, conn)\n",
    "\n",
    "# Combine tables\n",
    "#df_combined = df_turbine.join(df_DigiIn, on='TimeStamp', lsuffix='_turbine', rsuffix='_DigiIn')\n",
    "#df_combined"
   ]
  },
  {
   "cell_type": "code",
   "execution_count": null,
   "metadata": {
    "collapsed": true
   },
   "outputs": [],
   "source": [
    "df_turbine['date'] = df_turbine['TimeStamp'].dt.date\n",
    "#df_turbine['date']"
   ]
  },
  {
   "cell_type": "code",
   "execution_count": 54,
   "metadata": {
    "collapsed": true
   },
   "outputs": [],
   "source": [
    "df_turbine_site = df_turbine.groupby(by=['date']).median()"
   ]
  },
  {
   "cell_type": "code",
   "execution_count": 55,
   "metadata": {},
   "outputs": [
    {
     "data": {
      "text/html": [
       "<div>\n",
       "<style>\n",
       "    .dataframe thead tr:only-child th {\n",
       "        text-align: right;\n",
       "    }\n",
       "\n",
       "    .dataframe thead th {\n",
       "        text-align: left;\n",
       "    }\n",
       "\n",
       "    .dataframe tbody tr th {\n",
       "        vertical-align: top;\n",
       "    }\n",
       "</style>\n",
       "<table border=\"1\" class=\"dataframe\">\n",
       "  <thead>\n",
       "    <tr style=\"text-align: right;\">\n",
       "      <th></th>\n",
       "      <th>StationId</th>\n",
       "      <th>wtc_SecAnemo_min</th>\n",
       "      <th>wtc_SecAnemo_max</th>\n",
       "      <th>wtc_SecAnemo_mean</th>\n",
       "      <th>wtc_SecAnemo_stddev</th>\n",
       "      <th>wtc_YawPos_min</th>\n",
       "      <th>wtc_YawPos_max</th>\n",
       "      <th>wtc_YawPos_mean</th>\n",
       "      <th>wtc_YawPos_stddev</th>\n",
       "      <th>wtc_GenRpm_min</th>\n",
       "      <th>...</th>\n",
       "      <th>wtc_SeWindSp_mean</th>\n",
       "      <th>wtc_SeWindSp_stddev</th>\n",
       "      <th>wtc_AcWindSp_min</th>\n",
       "      <th>wtc_AcWindSp_max</th>\n",
       "      <th>wtc_AcWindSp_mean</th>\n",
       "      <th>wtc_AcWindSp_stddev</th>\n",
       "      <th>wtc_NacelPos_min</th>\n",
       "      <th>wtc_NacelPos_max</th>\n",
       "      <th>wtc_NacelPos_mean</th>\n",
       "      <th>wtc_NacelPos_stddev</th>\n",
       "    </tr>\n",
       "    <tr>\n",
       "      <th>date</th>\n",
       "      <th></th>\n",
       "      <th></th>\n",
       "      <th></th>\n",
       "      <th></th>\n",
       "      <th></th>\n",
       "      <th></th>\n",
       "      <th></th>\n",
       "      <th></th>\n",
       "      <th></th>\n",
       "      <th></th>\n",
       "      <th></th>\n",
       "      <th></th>\n",
       "      <th></th>\n",
       "      <th></th>\n",
       "      <th></th>\n",
       "      <th></th>\n",
       "      <th></th>\n",
       "      <th></th>\n",
       "      <th></th>\n",
       "      <th></th>\n",
       "      <th></th>\n",
       "    </tr>\n",
       "  </thead>\n",
       "  <tbody>\n",
       "    <tr>\n",
       "      <th>2014-01-03</th>\n",
       "      <td>2304171</td>\n",
       "      <td>10.4</td>\n",
       "      <td>20.0</td>\n",
       "      <td>15.202195</td>\n",
       "      <td>1.533460</td>\n",
       "      <td>167.399994</td>\n",
       "      <td>171.000000</td>\n",
       "      <td>169.313858</td>\n",
       "      <td>0.957883</td>\n",
       "      <td>1414.300049</td>\n",
       "      <td>...</td>\n",
       "      <td>15.203662</td>\n",
       "      <td>1.537471</td>\n",
       "      <td>8.7</td>\n",
       "      <td>19.799999</td>\n",
       "      <td>14.993261</td>\n",
       "      <td>1.745254</td>\n",
       "      <td>167.399994</td>\n",
       "      <td>171.000000</td>\n",
       "      <td>169.313934</td>\n",
       "      <td>0.957856</td>\n",
       "    </tr>\n",
       "    <tr>\n",
       "      <th>2014-02-17</th>\n",
       "      <td>2304171</td>\n",
       "      <td>7.7</td>\n",
       "      <td>11.1</td>\n",
       "      <td>9.233048</td>\n",
       "      <td>0.480433</td>\n",
       "      <td>182.199997</td>\n",
       "      <td>184.600006</td>\n",
       "      <td>183.355484</td>\n",
       "      <td>0.936022</td>\n",
       "      <td>1395.300049</td>\n",
       "      <td>...</td>\n",
       "      <td>9.235517</td>\n",
       "      <td>0.479630</td>\n",
       "      <td>5.9</td>\n",
       "      <td>11.600000</td>\n",
       "      <td>8.452577</td>\n",
       "      <td>0.957633</td>\n",
       "      <td>182.199997</td>\n",
       "      <td>184.600006</td>\n",
       "      <td>183.355331</td>\n",
       "      <td>0.935999</td>\n",
       "    </tr>\n",
       "    <tr>\n",
       "      <th>2014-02-19</th>\n",
       "      <td>2304170</td>\n",
       "      <td>7.6</td>\n",
       "      <td>11.8</td>\n",
       "      <td>9.572886</td>\n",
       "      <td>0.617389</td>\n",
       "      <td>282.700012</td>\n",
       "      <td>284.799988</td>\n",
       "      <td>283.703278</td>\n",
       "      <td>0.774072</td>\n",
       "      <td>1401.850037</td>\n",
       "      <td>...</td>\n",
       "      <td>9.579573</td>\n",
       "      <td>0.617412</td>\n",
       "      <td>5.9</td>\n",
       "      <td>12.600000</td>\n",
       "      <td>9.024637</td>\n",
       "      <td>1.085466</td>\n",
       "      <td>282.700012</td>\n",
       "      <td>284.799988</td>\n",
       "      <td>283.703186</td>\n",
       "      <td>0.774140</td>\n",
       "    </tr>\n",
       "  </tbody>\n",
       "</table>\n",
       "<p>3 rows × 71 columns</p>\n",
       "</div>"
      ],
      "text/plain": [
       "            StationId  wtc_SecAnemo_min  wtc_SecAnemo_max  wtc_SecAnemo_mean  \\\n",
       "date                                                                           \n",
       "2014-01-03    2304171              10.4              20.0          15.202195   \n",
       "2014-02-17    2304171               7.7              11.1           9.233048   \n",
       "2014-02-19    2304170               7.6              11.8           9.572886   \n",
       "\n",
       "            wtc_SecAnemo_stddev  wtc_YawPos_min  wtc_YawPos_max  \\\n",
       "date                                                              \n",
       "2014-01-03             1.533460      167.399994      171.000000   \n",
       "2014-02-17             0.480433      182.199997      184.600006   \n",
       "2014-02-19             0.617389      282.700012      284.799988   \n",
       "\n",
       "            wtc_YawPos_mean  wtc_YawPos_stddev  wtc_GenRpm_min  \\\n",
       "date                                                             \n",
       "2014-01-03       169.313858           0.957883     1414.300049   \n",
       "2014-02-17       183.355484           0.936022     1395.300049   \n",
       "2014-02-19       283.703278           0.774072     1401.850037   \n",
       "\n",
       "                   ...           wtc_SeWindSp_mean  wtc_SeWindSp_stddev  \\\n",
       "date               ...                                                    \n",
       "2014-01-03         ...                   15.203662             1.537471   \n",
       "2014-02-17         ...                    9.235517             0.479630   \n",
       "2014-02-19         ...                    9.579573             0.617412   \n",
       "\n",
       "            wtc_AcWindSp_min  wtc_AcWindSp_max  wtc_AcWindSp_mean  \\\n",
       "date                                                                \n",
       "2014-01-03               8.7         19.799999          14.993261   \n",
       "2014-02-17               5.9         11.600000           8.452577   \n",
       "2014-02-19               5.9         12.600000           9.024637   \n",
       "\n",
       "            wtc_AcWindSp_stddev  wtc_NacelPos_min  wtc_NacelPos_max  \\\n",
       "date                                                                  \n",
       "2014-01-03             1.745254        167.399994        171.000000   \n",
       "2014-02-17             0.957633        182.199997        184.600006   \n",
       "2014-02-19             1.085466        282.700012        284.799988   \n",
       "\n",
       "            wtc_NacelPos_mean  wtc_NacelPos_stddev  \n",
       "date                                                \n",
       "2014-01-03         169.313934             0.957856  \n",
       "2014-02-17         183.355331             0.935999  \n",
       "2014-02-19         283.703186             0.774140  \n",
       "\n",
       "[3 rows x 71 columns]"
      ]
     },
     "execution_count": 55,
     "metadata": {},
     "output_type": "execute_result"
    }
   ],
   "source": [
    "df_turbine_site"
   ]
  },
  {
   "cell_type": "code",
   "execution_count": 58,
   "metadata": {},
   "outputs": [
    {
     "data": {
      "text/plain": [
       "[<matplotlib.lines.Line2D at 0x25f220d8978>]"
      ]
     },
     "execution_count": 58,
     "metadata": {},
     "output_type": "execute_result"
    },
    {
     "data": {
      "image/png": "[encoded data removed]",
      "text/plain": [
       "<matplotlib.figure.Figure at 0x25f21fc4518>"
      ]
     },
     "metadata": {},
     "output_type": "display_data"
    }
   ],
   "source": [
    "plt.figure(figsize=(20,10))\n",
    "plt.plot(df_turbine['TimeStamp'], df_turbine['wtc_AcWindSp_mean'])"
   ]
  },
  {
   "cell_type": "code",
   "execution_count": null,
   "metadata": {
    "collapsed": true
   },
   "outputs": [],
   "source": []
  }
 ],
 "metadata": {
  "kernelspec": {
   "display_name": "Python 3",
   "language": "python",
   "name": "python3"
  },
  "language_info": {
   "codemirror_mode": {
    "name": "ipython",
    "version": 3
   },
   "file_extension": ".py",
   "mimetype": "text/x-python",
   "name": "python",
   "nbconvert_exporter": "python",
   "pygments_lexer": "ipython3",
   "version": "3.6.1"
  }
 },
 "nbformat": 4,
 "nbformat_minor": 2
}
